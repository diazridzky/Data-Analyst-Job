{
 "cells": [
  {
   "cell_type": "markdown",
   "id": "7dff03f2",
   "metadata": {},
   "source": [
    "<font size=\"5\">In this part, I will be predicting the Data Analyst Average Salary</font>"
   ]
  },
  {
   "cell_type": "markdown",
   "id": "8a9e45c5",
   "metadata": {},
   "source": [
    "Importing Necessary Libaries"
   ]
  },
  {
   "cell_type": "code",
   "execution_count": 1,
   "id": "a76ec5d4",
   "metadata": {},
   "outputs": [],
   "source": [
    "import numpy as np\n",
    "import pandas as pd\n",
    "import seaborn as sns\n",
    "from sklearn.model_selection import train_test_split, cross_validate, KFold, GridSearchCV\n",
    "from sklearn.ensemble import GradientBoostingRegressor, RandomForestRegressor\n",
    "from sklearn.tree import DecisionTreeRegressor\n",
    "from sklearn.metrics import mean_squared_error, mean_absolute_error  "
   ]
  },
  {
   "cell_type": "markdown",
   "id": "bda4dd83",
   "metadata": {},
   "source": [
    "Putting the csv data into a pandas DataFrame and checking the columns"
   ]
  },
  {
   "cell_type": "code",
   "execution_count": 2,
   "id": "77f8da2a",
   "metadata": {},
   "outputs": [],
   "source": [
    "predict = pd.read_csv('Cleaned_Data.csv', index_col=0)"
   ]
  },
  {
   "cell_type": "code",
   "execution_count": 3,
   "id": "d0fc3548",
   "metadata": {},
   "outputs": [
    {
     "data": {
      "text/plain": [
       "Index(['Job Title', 'Salary Estimate', 'Job Description', 'Rating',\n",
       "       'Company Name', 'Location', 'Headquarters', 'Size', 'Founded',\n",
       "       'Type of ownership', 'Industry', 'Sector', 'Revenue', 'Job_Seniority',\n",
       "       'Avg_Salary', 'Job_State', 'HQ_Same_State', 'Age', 'Python', 'Tableau',\n",
       "       'Spark', 'PowerBI', 'Excel', 'SQL'],\n",
       "      dtype='object')"
      ]
     },
     "execution_count": 3,
     "metadata": {},
     "output_type": "execute_result"
    }
   ],
   "source": [
    "predict.columns"
   ]
  },
  {
   "cell_type": "markdown",
   "id": "9a4d0ba2",
   "metadata": {},
   "source": [
    "Converting categorical variables from the data frame into dummy/indicator variables"
   ]
  },
  {
   "cell_type": "code",
   "execution_count": 4,
   "id": "4748cf9f",
   "metadata": {},
   "outputs": [],
   "source": [
    "model_data = predict[['Rating', 'Size', 'Type of ownership', 'Industry', 'Sector', 'Revenue', 'Job_Seniority',\n",
    "       'Avg_Salary', 'Job_State', 'HQ_Same_State', 'Age', 'Python', 'Tableau',\n",
    "       'Spark', 'PowerBI', 'Excel', 'SQL']]"
   ]
  },
  {
   "cell_type": "code",
   "execution_count": 5,
   "id": "193a29d0",
   "metadata": {},
   "outputs": [
    {
     "data": {
      "text/html": [
       "<div>\n",
       "<style scoped>\n",
       "    .dataframe tbody tr th:only-of-type {\n",
       "        vertical-align: middle;\n",
       "    }\n",
       "\n",
       "    .dataframe tbody tr th {\n",
       "        vertical-align: top;\n",
       "    }\n",
       "\n",
       "    .dataframe thead th {\n",
       "        text-align: right;\n",
       "    }\n",
       "</style>\n",
       "<table border=\"1\" class=\"dataframe\">\n",
       "  <thead>\n",
       "    <tr style=\"text-align: right;\">\n",
       "      <th></th>\n",
       "      <th>Rating</th>\n",
       "      <th>Avg_Salary</th>\n",
       "      <th>Age</th>\n",
       "      <th>Python</th>\n",
       "      <th>Tableau</th>\n",
       "      <th>Spark</th>\n",
       "      <th>PowerBI</th>\n",
       "      <th>Excel</th>\n",
       "      <th>SQL</th>\n",
       "      <th>Size_1 to 50 employees</th>\n",
       "      <th>...</th>\n",
       "      <th>HQ_Same_State_NC</th>\n",
       "      <th>HQ_Same_State_NJ</th>\n",
       "      <th>HQ_Same_State_NY</th>\n",
       "      <th>HQ_Same_State_OH</th>\n",
       "      <th>HQ_Same_State_PA</th>\n",
       "      <th>HQ_Same_State_TX</th>\n",
       "      <th>HQ_Same_State_UT</th>\n",
       "      <th>HQ_Same_State_VA</th>\n",
       "      <th>HQ_Same_State_WA</th>\n",
       "      <th>HQ_Same_State_na</th>\n",
       "    </tr>\n",
       "  </thead>\n",
       "  <tbody>\n",
       "    <tr>\n",
       "      <th>0</th>\n",
       "      <td>3.2</td>\n",
       "      <td>51.5</td>\n",
       "      <td>59.0</td>\n",
       "      <td>1</td>\n",
       "      <td>0</td>\n",
       "      <td>0</td>\n",
       "      <td>0</td>\n",
       "      <td>0</td>\n",
       "      <td>1</td>\n",
       "      <td>0</td>\n",
       "      <td>...</td>\n",
       "      <td>0</td>\n",
       "      <td>0</td>\n",
       "      <td>1</td>\n",
       "      <td>0</td>\n",
       "      <td>0</td>\n",
       "      <td>0</td>\n",
       "      <td>0</td>\n",
       "      <td>0</td>\n",
       "      <td>0</td>\n",
       "      <td>0</td>\n",
       "    </tr>\n",
       "    <tr>\n",
       "      <th>1</th>\n",
       "      <td>3.8</td>\n",
       "      <td>51.5</td>\n",
       "      <td>127.0</td>\n",
       "      <td>0</td>\n",
       "      <td>0</td>\n",
       "      <td>0</td>\n",
       "      <td>0</td>\n",
       "      <td>1</td>\n",
       "      <td>1</td>\n",
       "      <td>0</td>\n",
       "      <td>...</td>\n",
       "      <td>0</td>\n",
       "      <td>0</td>\n",
       "      <td>1</td>\n",
       "      <td>0</td>\n",
       "      <td>0</td>\n",
       "      <td>0</td>\n",
       "      <td>0</td>\n",
       "      <td>0</td>\n",
       "      <td>0</td>\n",
       "      <td>0</td>\n",
       "    </tr>\n",
       "    <tr>\n",
       "      <th>2</th>\n",
       "      <td>3.4</td>\n",
       "      <td>51.5</td>\n",
       "      <td>17.0</td>\n",
       "      <td>1</td>\n",
       "      <td>1</td>\n",
       "      <td>0</td>\n",
       "      <td>0</td>\n",
       "      <td>1</td>\n",
       "      <td>1</td>\n",
       "      <td>0</td>\n",
       "      <td>...</td>\n",
       "      <td>0</td>\n",
       "      <td>0</td>\n",
       "      <td>1</td>\n",
       "      <td>0</td>\n",
       "      <td>0</td>\n",
       "      <td>0</td>\n",
       "      <td>0</td>\n",
       "      <td>0</td>\n",
       "      <td>0</td>\n",
       "      <td>0</td>\n",
       "    </tr>\n",
       "    <tr>\n",
       "      <th>3</th>\n",
       "      <td>4.1</td>\n",
       "      <td>51.5</td>\n",
       "      <td>18.0</td>\n",
       "      <td>0</td>\n",
       "      <td>1</td>\n",
       "      <td>0</td>\n",
       "      <td>0</td>\n",
       "      <td>0</td>\n",
       "      <td>1</td>\n",
       "      <td>0</td>\n",
       "      <td>...</td>\n",
       "      <td>0</td>\n",
       "      <td>0</td>\n",
       "      <td>0</td>\n",
       "      <td>0</td>\n",
       "      <td>0</td>\n",
       "      <td>0</td>\n",
       "      <td>0</td>\n",
       "      <td>0</td>\n",
       "      <td>0</td>\n",
       "      <td>1</td>\n",
       "    </tr>\n",
       "    <tr>\n",
       "      <th>4</th>\n",
       "      <td>3.9</td>\n",
       "      <td>51.5</td>\n",
       "      <td>11.0</td>\n",
       "      <td>1</td>\n",
       "      <td>0</td>\n",
       "      <td>0</td>\n",
       "      <td>0</td>\n",
       "      <td>1</td>\n",
       "      <td>1</td>\n",
       "      <td>0</td>\n",
       "      <td>...</td>\n",
       "      <td>0</td>\n",
       "      <td>0</td>\n",
       "      <td>1</td>\n",
       "      <td>0</td>\n",
       "      <td>0</td>\n",
       "      <td>0</td>\n",
       "      <td>0</td>\n",
       "      <td>0</td>\n",
       "      <td>0</td>\n",
       "      <td>0</td>\n",
       "    </tr>\n",
       "  </tbody>\n",
       "</table>\n",
       "<p>5 rows × 185 columns</p>\n",
       "</div>"
      ],
      "text/plain": [
       "   Rating  Avg_Salary    Age  Python  Tableau  Spark  PowerBI  Excel  SQL  \\\n",
       "0     3.2        51.5   59.0       1        0      0        0      0    1   \n",
       "1     3.8        51.5  127.0       0        0      0        0      1    1   \n",
       "2     3.4        51.5   17.0       1        1      0        0      1    1   \n",
       "3     4.1        51.5   18.0       0        1      0        0      0    1   \n",
       "4     3.9        51.5   11.0       1        0      0        0      1    1   \n",
       "\n",
       "   Size_1 to 50 employees  ...  HQ_Same_State_NC  HQ_Same_State_NJ  \\\n",
       "0                       0  ...                 0                 0   \n",
       "1                       0  ...                 0                 0   \n",
       "2                       0  ...                 0                 0   \n",
       "3                       0  ...                 0                 0   \n",
       "4                       0  ...                 0                 0   \n",
       "\n",
       "   HQ_Same_State_NY  HQ_Same_State_OH  HQ_Same_State_PA  HQ_Same_State_TX  \\\n",
       "0                 1                 0                 0                 0   \n",
       "1                 1                 0                 0                 0   \n",
       "2                 1                 0                 0                 0   \n",
       "3                 0                 0                 0                 0   \n",
       "4                 1                 0                 0                 0   \n",
       "\n",
       "   HQ_Same_State_UT  HQ_Same_State_VA  HQ_Same_State_WA  HQ_Same_State_na  \n",
       "0                 0                 0                 0                 0  \n",
       "1                 0                 0                 0                 0  \n",
       "2                 0                 0                 0                 0  \n",
       "3                 0                 0                 0                 1  \n",
       "4                 0                 0                 0                 0  \n",
       "\n",
       "[5 rows x 185 columns]"
      ]
     },
     "execution_count": 5,
     "metadata": {},
     "output_type": "execute_result"
    }
   ],
   "source": [
    "dummy = pd.get_dummies(model_data)\n",
    "dummy.head()"
   ]
  },
  {
   "cell_type": "markdown",
   "id": "5e97437e",
   "metadata": {},
   "source": [
    "Splitting the data into Features and Label"
   ]
  },
  {
   "cell_type": "code",
   "execution_count": 6,
   "id": "9238f98f",
   "metadata": {},
   "outputs": [],
   "source": [
    "X = dummy.drop('Avg_Salary', axis=1)"
   ]
  },
  {
   "cell_type": "code",
   "execution_count": 7,
   "id": "e1902232",
   "metadata": {},
   "outputs": [],
   "source": [
    "y = dummy['Avg_Salary']"
   ]
  },
  {
   "cell_type": "code",
   "execution_count": 8,
   "id": "166891af",
   "metadata": {},
   "outputs": [],
   "source": [
    "X_train, X_test, y_train, y_test = train_test_split(X, y, test_size = 0.3, random_state = 101)"
   ]
  },
  {
   "cell_type": "markdown",
   "id": "b116cc85",
   "metadata": {},
   "source": [
    "Create a list for the Mean Absolute Error, Mean Squared Error, and Root Mean Squared Error for each Machine Learning models"
   ]
  },
  {
   "cell_type": "code",
   "execution_count": 23,
   "id": "3199e22a",
   "metadata": {},
   "outputs": [],
   "source": [
    "MAE = []\n",
    "MSE = []\n",
    "RMSE = []"
   ]
  },
  {
   "cell_type": "markdown",
   "id": "7870440e",
   "metadata": {},
   "source": [
    "Creating Machine Learning models"
   ]
  },
  {
   "cell_type": "markdown",
   "id": "004fb380",
   "metadata": {},
   "source": [
    "Gradient Boost Regression"
   ]
  },
  {
   "cell_type": "code",
   "execution_count": 24,
   "id": "5409c179",
   "metadata": {},
   "outputs": [
    {
     "name": "stdout",
     "output_type": "stream",
     "text": [
      "Best Parameter:  {'loss': 'ls', 'max_features': 'auto', 'n_estimators': 100}\n"
     ]
    }
   ],
   "source": [
    "gbr = GradientBoostingRegressor()\n",
    "param_gbr = {'loss':('ls','lad'), 'n_estimators':np.arange(100,701,100), 'max_features':('auto','sqrt','log2')}\n",
    "\n",
    "grid_gbr = GridSearchCV(estimator=gbr, param_grid=param_gbr, cv=10)\n",
    "\n",
    "grid_gbr.fit(X_train, y_train)\n",
    "\n",
    "print(\"Best Parameter: \", grid_gbr.best_params_)"
   ]
  },
  {
   "cell_type": "code",
   "execution_count": 25,
   "id": "0180437c",
   "metadata": {},
   "outputs": [],
   "source": [
    "gbr_pred = grid_gbr.best_estimator_.predict(X_test)\n",
    "\n",
    "MAE.append(mean_absolute_error(y_test, gbr_pred))\n",
    "MSE.append(mean_squared_error(y_test, gbr_pred))\n",
    "RMSE.append(np.sqrt(mean_squared_error(y_test, gbr_pred)))"
   ]
  },
  {
   "cell_type": "markdown",
   "id": "83276640",
   "metadata": {},
   "source": [
    "Random Forest Regression"
   ]
  },
  {
   "cell_type": "code",
   "execution_count": 26,
   "id": "b3acc772",
   "metadata": {},
   "outputs": [
    {
     "name": "stdout",
     "output_type": "stream",
     "text": [
      "Best Parameter:  {'max_features': 'sqrt', 'n_estimators': 500}\n"
     ]
    }
   ],
   "source": [
    "rfr = RandomForestRegressor()\n",
    "param_rfr = {'n_estimators':np.arange(100,701,100), 'max_features':('auto','sqrt','log2')}\n",
    "\n",
    "grid_rfr = GridSearchCV(estimator=rfr, param_grid=param_rfr, cv=10)\n",
    "\n",
    "grid_rfr.fit(X_train, y_train)\n",
    "\n",
    "print(\"Best Parameter: \", grid_rfr.best_params_)"
   ]
  },
  {
   "cell_type": "code",
   "execution_count": 27,
   "id": "dd9c1f98",
   "metadata": {},
   "outputs": [],
   "source": [
    "rfr_pred = grid_rfr.best_estimator_.predict(X_test)\n",
    "\n",
    "MAE.append(mean_absolute_error(y_test, rfr_pred))\n",
    "MSE.append(mean_squared_error(y_test, rfr_pred))\n",
    "RMSE.append(np.sqrt(mean_squared_error(y_test, rfr_pred)))"
   ]
  },
  {
   "cell_type": "markdown",
   "id": "6084b274",
   "metadata": {},
   "source": [
    "Decision Tree Regression"
   ]
  },
  {
   "cell_type": "code",
   "execution_count": 28,
   "id": "15d94059",
   "metadata": {},
   "outputs": [],
   "source": [
    "dtr = DecisionTreeRegressor()\n",
    "\n",
    "cv = KFold(n_splits=10, random_state=1, shuffle=True)\n",
    "scores = cross_validate(dtr, X, y, cv=cv,scoring=('neg_mean_absolute_error', 'neg_mean_squared_error'))\n",
    "\n",
    "MAE.append(np.mean(np.absolute(scores['test_neg_mean_absolute_error'])))\n",
    "MSE.append(np.mean(np.absolute(scores['test_neg_mean_squared_error'])))\n",
    "RMSE.append(np.sqrt(np.mean(np.absolute(scores['test_neg_mean_squared_error']))))"
   ]
  },
  {
   "cell_type": "markdown",
   "id": "e1f2cd67",
   "metadata": {},
   "source": [
    "Create a data frame containing the performance of each Machine Learning models"
   ]
  },
  {
   "cell_type": "code",
   "execution_count": 29,
   "id": "a8c6bc0c",
   "metadata": {},
   "outputs": [],
   "source": [
    "evaluation = pd.DataFrame({'MAE': MAE,\n",
    "                           'MSE': MSE,\n",
    "                           'RMSE': RMSE},\n",
    "                           index=['Gradient Boost', 'Random Forest', 'Decision Tree'])"
   ]
  },
  {
   "cell_type": "code",
   "execution_count": 30,
   "id": "6d198a92",
   "metadata": {},
   "outputs": [
    {
     "data": {
      "text/html": [
       "<div>\n",
       "<style scoped>\n",
       "    .dataframe tbody tr th:only-of-type {\n",
       "        vertical-align: middle;\n",
       "    }\n",
       "\n",
       "    .dataframe tbody tr th {\n",
       "        vertical-align: top;\n",
       "    }\n",
       "\n",
       "    .dataframe thead th {\n",
       "        text-align: right;\n",
       "    }\n",
       "</style>\n",
       "<table border=\"1\" class=\"dataframe\">\n",
       "  <thead>\n",
       "    <tr style=\"text-align: right;\">\n",
       "      <th></th>\n",
       "      <th>MAE</th>\n",
       "      <th>MSE</th>\n",
       "      <th>RMSE</th>\n",
       "    </tr>\n",
       "  </thead>\n",
       "  <tbody>\n",
       "    <tr>\n",
       "      <th>Gradient Boost</th>\n",
       "      <td>15.747927</td>\n",
       "      <td>416.520403</td>\n",
       "      <td>20.408832</td>\n",
       "    </tr>\n",
       "    <tr>\n",
       "      <th>Random Forest</th>\n",
       "      <td>16.199642</td>\n",
       "      <td>445.512179</td>\n",
       "      <td>21.107159</td>\n",
       "    </tr>\n",
       "    <tr>\n",
       "      <th>Decision Tree</th>\n",
       "      <td>19.367477</td>\n",
       "      <td>732.444143</td>\n",
       "      <td>27.063705</td>\n",
       "    </tr>\n",
       "  </tbody>\n",
       "</table>\n",
       "</div>"
      ],
      "text/plain": [
       "                      MAE         MSE       RMSE\n",
       "Gradient Boost  15.747927  416.520403  20.408832\n",
       "Random Forest   16.199642  445.512179  21.107159\n",
       "Decision Tree   19.367477  732.444143  27.063705"
      ]
     },
     "execution_count": 30,
     "metadata": {},
     "output_type": "execute_result"
    }
   ],
   "source": [
    "evaluation"
   ]
  },
  {
   "cell_type": "markdown",
   "id": "6a6b91fc",
   "metadata": {},
   "source": [
    "As you can see it looks like Gradient Boost is the best performing algorithm for predicting the Average Salary"
   ]
  },
  {
   "cell_type": "code",
   "execution_count": null,
   "id": "dd9971cd",
   "metadata": {},
   "outputs": [],
   "source": []
  }
 ],
 "metadata": {
  "kernelspec": {
   "display_name": "Python 3",
   "language": "python",
   "name": "python3"
  },
  "language_info": {
   "codemirror_mode": {
    "name": "ipython",
    "version": 3
   },
   "file_extension": ".py",
   "mimetype": "text/x-python",
   "name": "python",
   "nbconvert_exporter": "python",
   "pygments_lexer": "ipython3",
   "version": "3.8.8"
  }
 },
 "nbformat": 4,
 "nbformat_minor": 5
}
