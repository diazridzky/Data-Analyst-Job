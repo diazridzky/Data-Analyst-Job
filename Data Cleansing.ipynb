{
 "cells": [
  {
   "cell_type": "markdown",
   "id": "f4d7108f",
   "metadata": {},
   "source": [
    "Importing Libaries and Inspection"
   ]
  },
  {
   "cell_type": "code",
   "execution_count": 7,
   "id": "057a7ff7",
   "metadata": {},
   "outputs": [],
   "source": [
    "import numpy as np\n",
    "import pandas as pd\n",
    "import seaborn as sns"
   ]
  },
  {
   "cell_type": "code",
   "execution_count": 8,
   "id": "09f10637",
   "metadata": {},
   "outputs": [],
   "source": [
    "da_jobs = pd.read_csv('DataAnalyst.csv',index_col=0)"
   ]
  },
  {
   "cell_type": "code",
   "execution_count": 9,
   "id": "2b5c7a23",
   "metadata": {},
   "outputs": [
    {
     "data": {
      "text/html": [
       "<div>\n",
       "<style scoped>\n",
       "    .dataframe tbody tr th:only-of-type {\n",
       "        vertical-align: middle;\n",
       "    }\n",
       "\n",
       "    .dataframe tbody tr th {\n",
       "        vertical-align: top;\n",
       "    }\n",
       "\n",
       "    .dataframe thead th {\n",
       "        text-align: right;\n",
       "    }\n",
       "</style>\n",
       "<table border=\"1\" class=\"dataframe\">\n",
       "  <thead>\n",
       "    <tr style=\"text-align: right;\">\n",
       "      <th></th>\n",
       "      <th>Job Title</th>\n",
       "      <th>Salary Estimate</th>\n",
       "      <th>Job Description</th>\n",
       "      <th>Rating</th>\n",
       "      <th>Company Name</th>\n",
       "      <th>Location</th>\n",
       "      <th>Headquarters</th>\n",
       "      <th>Size</th>\n",
       "      <th>Founded</th>\n",
       "      <th>Type of ownership</th>\n",
       "      <th>Industry</th>\n",
       "      <th>Sector</th>\n",
       "      <th>Revenue</th>\n",
       "      <th>Competitors</th>\n",
       "      <th>Easy Apply</th>\n",
       "    </tr>\n",
       "  </thead>\n",
       "  <tbody>\n",
       "    <tr>\n",
       "      <th>0</th>\n",
       "      <td>Data Analyst, Center on Immigration and Justic...</td>\n",
       "      <td>$37K-$66K (Glassdoor est.)</td>\n",
       "      <td>Are you eager to roll up your sleeves and harn...</td>\n",
       "      <td>3.2</td>\n",
       "      <td>Vera Institute of Justice\\n3.2</td>\n",
       "      <td>New York, NY</td>\n",
       "      <td>New York, NY</td>\n",
       "      <td>201 to 500 employees</td>\n",
       "      <td>1961</td>\n",
       "      <td>Nonprofit Organization</td>\n",
       "      <td>Social Assistance</td>\n",
       "      <td>Non-Profit</td>\n",
       "      <td>$100 to $500 million (USD)</td>\n",
       "      <td>-1</td>\n",
       "      <td>True</td>\n",
       "    </tr>\n",
       "    <tr>\n",
       "      <th>1</th>\n",
       "      <td>Quality Data Analyst</td>\n",
       "      <td>$37K-$66K (Glassdoor est.)</td>\n",
       "      <td>Overview\\n\\nProvides analytical and technical ...</td>\n",
       "      <td>3.8</td>\n",
       "      <td>Visiting Nurse Service of New York\\n3.8</td>\n",
       "      <td>New York, NY</td>\n",
       "      <td>New York, NY</td>\n",
       "      <td>10000+ employees</td>\n",
       "      <td>1893</td>\n",
       "      <td>Nonprofit Organization</td>\n",
       "      <td>Health Care Services &amp; Hospitals</td>\n",
       "      <td>Health Care</td>\n",
       "      <td>$2 to $5 billion (USD)</td>\n",
       "      <td>-1</td>\n",
       "      <td>-1</td>\n",
       "    </tr>\n",
       "    <tr>\n",
       "      <th>2</th>\n",
       "      <td>Senior Data Analyst, Insights &amp; Analytics Team...</td>\n",
       "      <td>$37K-$66K (Glassdoor est.)</td>\n",
       "      <td>We’re looking for a Senior Data Analyst who ha...</td>\n",
       "      <td>3.4</td>\n",
       "      <td>Squarespace\\n3.4</td>\n",
       "      <td>New York, NY</td>\n",
       "      <td>New York, NY</td>\n",
       "      <td>1001 to 5000 employees</td>\n",
       "      <td>2003</td>\n",
       "      <td>Company - Private</td>\n",
       "      <td>Internet</td>\n",
       "      <td>Information Technology</td>\n",
       "      <td>Unknown / Non-Applicable</td>\n",
       "      <td>GoDaddy</td>\n",
       "      <td>-1</td>\n",
       "    </tr>\n",
       "    <tr>\n",
       "      <th>3</th>\n",
       "      <td>Data Analyst</td>\n",
       "      <td>$37K-$66K (Glassdoor est.)</td>\n",
       "      <td>Requisition NumberRR-0001939\\nRemote:Yes\\nWe c...</td>\n",
       "      <td>4.1</td>\n",
       "      <td>Celerity\\n4.1</td>\n",
       "      <td>New York, NY</td>\n",
       "      <td>McLean, VA</td>\n",
       "      <td>201 to 500 employees</td>\n",
       "      <td>2002</td>\n",
       "      <td>Subsidiary or Business Segment</td>\n",
       "      <td>IT Services</td>\n",
       "      <td>Information Technology</td>\n",
       "      <td>$50 to $100 million (USD)</td>\n",
       "      <td>-1</td>\n",
       "      <td>-1</td>\n",
       "    </tr>\n",
       "    <tr>\n",
       "      <th>4</th>\n",
       "      <td>Reporting Data Analyst</td>\n",
       "      <td>$37K-$66K (Glassdoor est.)</td>\n",
       "      <td>ABOUT FANDUEL GROUP\\n\\nFanDuel Group is a worl...</td>\n",
       "      <td>3.9</td>\n",
       "      <td>FanDuel\\n3.9</td>\n",
       "      <td>New York, NY</td>\n",
       "      <td>New York, NY</td>\n",
       "      <td>501 to 1000 employees</td>\n",
       "      <td>2009</td>\n",
       "      <td>Company - Private</td>\n",
       "      <td>Sports &amp; Recreation</td>\n",
       "      <td>Arts, Entertainment &amp; Recreation</td>\n",
       "      <td>$100 to $500 million (USD)</td>\n",
       "      <td>DraftKings</td>\n",
       "      <td>True</td>\n",
       "    </tr>\n",
       "  </tbody>\n",
       "</table>\n",
       "</div>"
      ],
      "text/plain": [
       "                                           Job Title  \\\n",
       "0  Data Analyst, Center on Immigration and Justic...   \n",
       "1                               Quality Data Analyst   \n",
       "2  Senior Data Analyst, Insights & Analytics Team...   \n",
       "3                                       Data Analyst   \n",
       "4                             Reporting Data Analyst   \n",
       "\n",
       "              Salary Estimate  \\\n",
       "0  $37K-$66K (Glassdoor est.)   \n",
       "1  $37K-$66K (Glassdoor est.)   \n",
       "2  $37K-$66K (Glassdoor est.)   \n",
       "3  $37K-$66K (Glassdoor est.)   \n",
       "4  $37K-$66K (Glassdoor est.)   \n",
       "\n",
       "                                     Job Description  Rating  \\\n",
       "0  Are you eager to roll up your sleeves and harn...     3.2   \n",
       "1  Overview\\n\\nProvides analytical and technical ...     3.8   \n",
       "2  We’re looking for a Senior Data Analyst who ha...     3.4   \n",
       "3  Requisition NumberRR-0001939\\nRemote:Yes\\nWe c...     4.1   \n",
       "4  ABOUT FANDUEL GROUP\\n\\nFanDuel Group is a worl...     3.9   \n",
       "\n",
       "                              Company Name      Location  Headquarters  \\\n",
       "0           Vera Institute of Justice\\n3.2  New York, NY  New York, NY   \n",
       "1  Visiting Nurse Service of New York\\n3.8  New York, NY  New York, NY   \n",
       "2                         Squarespace\\n3.4  New York, NY  New York, NY   \n",
       "3                            Celerity\\n4.1  New York, NY    McLean, VA   \n",
       "4                             FanDuel\\n3.9  New York, NY  New York, NY   \n",
       "\n",
       "                     Size  Founded               Type of ownership  \\\n",
       "0    201 to 500 employees     1961          Nonprofit Organization   \n",
       "1        10000+ employees     1893          Nonprofit Organization   \n",
       "2  1001 to 5000 employees     2003               Company - Private   \n",
       "3    201 to 500 employees     2002  Subsidiary or Business Segment   \n",
       "4   501 to 1000 employees     2009               Company - Private   \n",
       "\n",
       "                           Industry                            Sector  \\\n",
       "0                 Social Assistance                        Non-Profit   \n",
       "1  Health Care Services & Hospitals                       Health Care   \n",
       "2                          Internet            Information Technology   \n",
       "3                       IT Services            Information Technology   \n",
       "4               Sports & Recreation  Arts, Entertainment & Recreation   \n",
       "\n",
       "                      Revenue Competitors Easy Apply  \n",
       "0  $100 to $500 million (USD)          -1       True  \n",
       "1      $2 to $5 billion (USD)          -1         -1  \n",
       "2    Unknown / Non-Applicable     GoDaddy         -1  \n",
       "3   $50 to $100 million (USD)          -1         -1  \n",
       "4  $100 to $500 million (USD)  DraftKings       True  "
      ]
     },
     "execution_count": 9,
     "metadata": {},
     "output_type": "execute_result"
    }
   ],
   "source": [
    "da_jobs.head()"
   ]
  },
  {
   "cell_type": "code",
   "execution_count": 10,
   "id": "905e64d9",
   "metadata": {},
   "outputs": [
    {
     "name": "stdout",
     "output_type": "stream",
     "text": [
      "<class 'pandas.core.frame.DataFrame'>\n",
      "Int64Index: 2253 entries, 0 to 2252\n",
      "Data columns (total 15 columns):\n",
      " #   Column             Non-Null Count  Dtype  \n",
      "---  ------             --------------  -----  \n",
      " 0   Job Title          2253 non-null   object \n",
      " 1   Salary Estimate    2253 non-null   object \n",
      " 2   Job Description    2253 non-null   object \n",
      " 3   Rating             2253 non-null   float64\n",
      " 4   Company Name       2252 non-null   object \n",
      " 5   Location           2253 non-null   object \n",
      " 6   Headquarters       2253 non-null   object \n",
      " 7   Size               2253 non-null   object \n",
      " 8   Founded            2253 non-null   int64  \n",
      " 9   Type of ownership  2253 non-null   object \n",
      " 10  Industry           2253 non-null   object \n",
      " 11  Sector             2253 non-null   object \n",
      " 12  Revenue            2253 non-null   object \n",
      " 13  Competitors        2253 non-null   object \n",
      " 14  Easy Apply         2253 non-null   object \n",
      "dtypes: float64(1), int64(1), object(13)\n",
      "memory usage: 281.6+ KB\n"
     ]
    }
   ],
   "source": [
    "da_jobs.info()"
   ]
  },
  {
   "cell_type": "markdown",
   "id": "4aec6589",
   "metadata": {},
   "source": [
    "Check if there is any null values"
   ]
  },
  {
   "cell_type": "code",
   "execution_count": 11,
   "id": "072fca21",
   "metadata": {},
   "outputs": [
    {
     "data": {
      "text/plain": [
       "<AxesSubplot:>"
      ]
     },
     "execution_count": 11,
     "metadata": {},
     "output_type": "execute_result"
    },
    {
     "data": {
      "image/png": "[encoded data removed]",
      "text/plain": [
       "<Figure size 432x288 with 1 Axes>"
      ]
     },
     "metadata": {
      "needs_background": "light"
     },
     "output_type": "display_data"
    }
   ],
   "source": [
    "sns.heatmap(da_jobs.isnull(), cbar=False, yticklabels=False, cmap='Blues')"
   ]
  },
  {
   "cell_type": "markdown",
   "id": "ce13e839",
   "metadata": {},
   "source": [
    "It may look there isn't any null values, but when I replaced -1 (Which seems like a bug when the data was stored) with NaN..."
   ]
  },
  {
   "cell_type": "code",
   "execution_count": 12,
   "id": "5a7c0207",
   "metadata": {},
   "outputs": [],
   "source": [
    "da_jobs.replace(\"-1\", np.nan, inplace=True)\n",
    "da_jobs.replace(-1, np.nan, inplace=True)\n",
    "da_jobs.replace(-1.0, np.nan, inplace=True)"
   ]
  },
  {
   "cell_type": "markdown",
   "id": "9e320e73",
   "metadata": {},
   "source": [
    "I get a lot of null values"
   ]
  },
  {
   "cell_type": "code",
   "execution_count": 13,
   "id": "1d654d4c",
   "metadata": {},
   "outputs": [
    {
     "data": {
      "text/plain": [
       "<AxesSubplot:>"
      ]
     },
     "execution_count": 13,
     "metadata": {},
     "output_type": "execute_result"
    },
    {
     "data": {
      "image/png": "[encoded data removed]",
      "text/plain": [
       "<Figure size 432x288 with 1 Axes>"
      ]
     },
     "metadata": {
      "needs_background": "light"
     },
     "output_type": "display_data"
    }
   ],
   "source": [
    "sns.heatmap(da_jobs.isnull(), cbar=False, yticklabels=False, cmap='Blues')"
   ]
  },
  {
   "cell_type": "markdown",
   "id": "a749fd19",
   "metadata": {},
   "source": [
    "To fix this I dropped the features that I will not use and null values"
   ]
  },
  {
   "cell_type": "code",
   "execution_count": 14,
   "id": "379fe40d",
   "metadata": {},
   "outputs": [],
   "source": [
    "da_jobs.drop(['Competitors','Easy Apply'], axis=1, inplace=True)"
   ]
  },
  {
   "cell_type": "code",
   "execution_count": 15,
   "id": "db1235e8",
   "metadata": {},
   "outputs": [],
   "source": [
    "da_jobs.dropna(inplace=True)"
   ]
  },
  {
   "cell_type": "markdown",
   "id": "ff1e478a",
   "metadata": {},
   "source": [
    "Aaaaand it's gone"
   ]
  },
  {
   "cell_type": "code",
   "execution_count": 16,
   "id": "058bf2cc",
   "metadata": {},
   "outputs": [
    {
     "data": {
      "text/plain": [
       "<AxesSubplot:>"
      ]
     },
     "execution_count": 16,
     "metadata": {},
     "output_type": "execute_result"
    },
    {
     "data": {
      "image/png": "[encoded data removed]",
      "text/plain": [
       "<Figure size 432x288 with 1 Axes>"
      ]
     },
     "metadata": {
      "needs_background": "light"
     },
     "output_type": "display_data"
    }
   ],
   "source": [
    "sns.heatmap(da_jobs.isnull(), cbar=False, yticklabels=False, cmap='Blues')"
   ]
  },
  {
   "cell_type": "markdown",
   "id": "593680bf",
   "metadata": {},
   "source": [
    "I split the seniority from the Job Title Column"
   ]
  },
  {
   "cell_type": "code",
   "execution_count": 17,
   "id": "c3180e61",
   "metadata": {},
   "outputs": [],
   "source": [
    "def seniority(title):\n",
    "    if 'sr' in title.lower() or 'senior' in title.lower() or 'sr' in title.lower() or 'lead' in title.lower() or 'principal' in title.lower():\n",
    "            return 'Senior'\n",
    "    elif 'jr' in title.lower() or 'jr.' in title.lower() or 'junior' in title.lower():\n",
    "        return 'Junior'\n",
    "    else:\n",
    "        return 'na'"
   ]
  },
  {
   "cell_type": "code",
   "execution_count": 18,
   "id": "638708ca",
   "metadata": {},
   "outputs": [
    {
     "data": {
      "text/plain": [
       "na        1122\n",
       "Senior     372\n",
       "Junior      65\n",
       "Name: Job_Seniority, dtype: int64"
      ]
     },
     "execution_count": 18,
     "metadata": {},
     "output_type": "execute_result"
    }
   ],
   "source": [
    "da_jobs['Job_Seniority'] = da_jobs['Job Title'].apply(seniority)\n",
    "da_jobs['Job_Seniority'].value_counts()"
   ]
  },
  {
   "cell_type": "markdown",
   "id": "b2b0a761",
   "metadata": {},
   "source": [
    "I calculate the average salary based on the Salary Estimate column"
   ]
  },
  {
   "cell_type": "code",
   "execution_count": 19,
   "id": "6b57242f",
   "metadata": {},
   "outputs": [],
   "source": [
    "def Avg_Salary(sal):\n",
    "    if len(sal) == 26:\n",
    "        avg_sal = (int(sal[1:3]) + int(sal[6:8])) / 2\n",
    "        return avg_sal\n",
    "    elif len(sal) == 27:\n",
    "        avg_sal = (int(sal[1:3]) + int(sal[6:9])) / 2\n",
    "        return avg_sal\n",
    "    elif len(sal) == 28:\n",
    "        avg_sal = (int(sal[1:4]) + int(sal[7:10])) / 2\n",
    "        return avg_sal\n",
    "    else:\n",
    "        return 0"
   ]
  },
  {
   "cell_type": "code",
   "execution_count": 20,
   "id": "0dfa8419",
   "metadata": {},
   "outputs": [],
   "source": [
    "da_jobs['Avg_Salary'] = da_jobs['Salary Estimate'].apply(Avg_Salary) "
   ]
  },
  {
   "cell_type": "markdown",
   "id": "aed8b229",
   "metadata": {},
   "source": [
    "I parsed the Company Name from the rating "
   ]
  },
  {
   "cell_type": "code",
   "execution_count": 21,
   "id": "4bbd6b0e",
   "metadata": {},
   "outputs": [],
   "source": [
    "da_jobs['Company Name'] = da_jobs['Company Name'].apply(lambda x: x.split('\\n')[0])"
   ]
  },
  {
   "cell_type": "markdown",
   "id": "3ce16e34",
   "metadata": {},
   "source": [
    "I parsed the state of the data analyst jobs's location"
   ]
  },
  {
   "cell_type": "code",
   "execution_count": 22,
   "id": "0516a316",
   "metadata": {},
   "outputs": [],
   "source": [
    "da_jobs['Job_State'] = da_jobs['Location'].apply(lambda x: x[-2:])"
   ]
  },
  {
   "cell_type": "markdown",
   "id": "917522e7",
   "metadata": {},
   "source": [
    "Made a new column of the state of the data analyst jobs's headquarters in the same state as the location of the job"
   ]
  },
  {
   "cell_type": "code",
   "execution_count": 23,
   "id": "336989ac",
   "metadata": {},
   "outputs": [],
   "source": [
    "def same_state(state):\n",
    "    if state['Headquarters'][-2:] == state['Job_State']:\n",
    "        return state['Headquarters'][-2:]\n",
    "    else:\n",
    "        return 'na'"
   ]
  },
  {
   "cell_type": "code",
   "execution_count": 24,
   "id": "b6f4fbce",
   "metadata": {},
   "outputs": [
    {
     "data": {
      "text/plain": [
       "0       NY\n",
       "1       NY\n",
       "2       NY\n",
       "3       na\n",
       "4       NY\n",
       "        ..\n",
       "2243    na\n",
       "2245    na\n",
       "2249    CO\n",
       "2251    na\n",
       "2252    CO\n",
       "Name: HQ_Same_State, Length: 1559, dtype: object"
      ]
     },
     "execution_count": 24,
     "metadata": {},
     "output_type": "execute_result"
    }
   ],
   "source": [
    "da_jobs['HQ_Same_State'] = da_jobs.apply(same_state, axis=1)\n",
    "da_jobs['HQ_Same_State']"
   ]
  },
  {
   "cell_type": "markdown",
   "id": "ba283a7d",
   "metadata": {},
   "source": [
    "I subtract the year 2020 with the year from the Founded column to get the age of the company"
   ]
  },
  {
   "cell_type": "code",
   "execution_count": 25,
   "id": "6a81176e",
   "metadata": {},
   "outputs": [],
   "source": [
    "da_jobs['Age'] = da_jobs['Founded'].apply(lambda x: 2020 - x)"
   ]
  },
  {
   "cell_type": "markdown",
   "id": "1892aaab",
   "metadata": {},
   "source": [
    "I seperate data analyst tools from the Job Title column"
   ]
  },
  {
   "cell_type": "code",
   "execution_count": 26,
   "id": "d18a2616",
   "metadata": {},
   "outputs": [
    {
     "data": {
      "text/plain": [
       "0    1094\n",
       "1     465\n",
       "Name: Python, dtype: int64"
      ]
     },
     "execution_count": 26,
     "metadata": {},
     "output_type": "execute_result"
    }
   ],
   "source": [
    "#python\n",
    "da_jobs['Python'] = da_jobs['Job Description'].apply(lambda x: 1 if 'python' in x.lower() else 0)\n",
    "da_jobs['Python'].value_counts()"
   ]
  },
  {
   "cell_type": "code",
   "execution_count": 27,
   "id": "b16c3c53",
   "metadata": {},
   "outputs": [
    {
     "data": {
      "text/plain": [
       "0    1102\n",
       "1     457\n",
       "Name: Tableau, dtype: int64"
      ]
     },
     "execution_count": 27,
     "metadata": {},
     "output_type": "execute_result"
    }
   ],
   "source": [
    "#tableau \n",
    "da_jobs['Tableau'] = da_jobs['Job Description'].apply(lambda x: 1 if 'tableau' in x.lower() else 0)\n",
    "da_jobs['Tableau'].value_counts()"
   ]
  },
  {
   "cell_type": "code",
   "execution_count": 28,
   "id": "fe05e956",
   "metadata": {},
   "outputs": [
    {
     "data": {
      "text/plain": [
       "0    1493\n",
       "1      66\n",
       "Name: Spark, dtype: int64"
      ]
     },
     "execution_count": 28,
     "metadata": {},
     "output_type": "execute_result"
    }
   ],
   "source": [
    "#spark \n",
    "da_jobs['Spark'] = da_jobs['Job Description'].apply(lambda x: 1 if 'spark' in x.lower() or 'pyspark' in x.lower() else 0)\n",
    "da_jobs['Spark'].value_counts()"
   ]
  },
  {
   "cell_type": "code",
   "execution_count": 29,
   "id": "5fabeca6",
   "metadata": {},
   "outputs": [
    {
     "data": {
      "text/plain": [
       "0    1435\n",
       "1     124\n",
       "Name: PowerBI, dtype: int64"
      ]
     },
     "execution_count": 29,
     "metadata": {},
     "output_type": "execute_result"
    }
   ],
   "source": [
    "#power bi \n",
    "da_jobs['PowerBI'] = da_jobs['Job Description'].apply(lambda x: 1 if 'power bi' in x.lower() else 0)\n",
    "da_jobs['PowerBI'].value_counts()"
   ]
  },
  {
   "cell_type": "code",
   "execution_count": 30,
   "id": "324bb04a",
   "metadata": {},
   "outputs": [
    {
     "data": {
      "text/plain": [
       "1    972\n",
       "0    587\n",
       "Name: Excel, dtype: int64"
      ]
     },
     "execution_count": 30,
     "metadata": {},
     "output_type": "execute_result"
    }
   ],
   "source": [
    "#excel\n",
    "da_jobs['Excel'] = da_jobs['Job Description'].apply(lambda x: 1 if 'excel' in x.lower() else 0)\n",
    "da_jobs['Excel'].value_counts()"
   ]
  },
  {
   "cell_type": "code",
   "execution_count": 31,
   "id": "ddfd7a0c",
   "metadata": {},
   "outputs": [
    {
     "data": {
      "text/plain": [
       "1    978\n",
       "0    581\n",
       "Name: SQL, dtype: int64"
      ]
     },
     "execution_count": 31,
     "metadata": {},
     "output_type": "execute_result"
    }
   ],
   "source": [
    "#sql\n",
    "da_jobs['SQL'] = da_jobs['Job Description'].apply(lambda x: 1 if 'sql' in x.lower() else 0)\n",
    "da_jobs['SQL'].value_counts()"
   ]
  },
  {
   "cell_type": "markdown",
   "id": "473d2a02",
   "metadata": {},
   "source": [
    "Export the cleaned data to a csv file"
   ]
  },
  {
   "cell_type": "code",
   "execution_count": 32,
   "id": "a005191b",
   "metadata": {},
   "outputs": [],
   "source": [
    "da_jobs.to_csv('Cleaned_Data.csv')"
   ]
  },
  {
   "cell_type": "code",
   "execution_count": 36,
   "id": "d88060b9",
   "metadata": {},
   "outputs": [
    {
     "data": {
      "text/plain": [
       "19"
      ]
     },
     "execution_count": 36,
     "metadata": {},
     "output_type": "execute_result"
    }
   ],
   "source": [
    "da_jobs['Job_State'].nunique()"
   ]
  },
  {
   "cell_type": "code",
   "execution_count": null,
   "id": "a2eebb85",
   "metadata": {},
   "outputs": [],
   "source": []
  }
 ],
 "metadata": {
  "kernelspec": {
   "display_name": "Python 3",
   "language": "python",
   "name": "python3"
  },
  "language_info": {
   "codemirror_mode": {
    "name": "ipython",
    "version": 3
   },
   "file_extension": ".py",
   "mimetype": "text/x-python",
   "name": "python",
   "nbconvert_exporter": "python",
   "pygments_lexer": "ipython3",
   "version": "3.8.8"
  }
 },
 "nbformat": 4,
 "nbformat_minor": 5
}
